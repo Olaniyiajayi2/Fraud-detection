{
 "cells": [
  {
   "cell_type": "code",
   "execution_count": 324,
   "metadata": {
    "colab": {},
    "colab_type": "code",
    "id": "SgbEriKViGbb"
   },
   "outputs": [],
   "source": [
    "### Import the necessary libraries\n",
    "\n",
    "import pandas as pd\n",
    "import numpy as np\n",
    "from sklearn.utils import resample\n",
    "from sklearn.preprocessing import StandardScaler\n",
    "from sklearn.model_selection import train_test_split, GridSearchCV, StratifiedKFold, KFold\n",
    "\n",
    "from sklearn.ensemble import RandomForestClassifier, VotingClassifier\n",
    "from xgboost import XGBClassifier\n",
    "from lightgbm import LGBMClassifier\n",
    "from sklearn.metrics import confusion_matrix, classification_report, roc_auc_score, precision_recall_curve, roc_curve, auc, average_precision_score\n",
    "from imblearn.over_sampling import SMOTE, BorderlineSMOTE, SVMSMOTE, ADASYN\n",
    "from sklearn.metrics import make_scorer, matthews_corrcoef\n",
    "import matplotlib.pyplot as plt\n",
    "import seaborn as sns\n",
    "%matplotlib inline\n",
    "\n",
    "import warnings\n",
    "warnings.filterwarnings('ignore')"
   ]
  },
  {
   "cell_type": "code",
   "execution_count": 325,
   "metadata": {
    "colab": {
     "base_uri": "https://localhost:8080/",
     "height": 292
    },
    "colab_type": "code",
    "id": "tf0G90RyjWRg",
    "outputId": "daccb990-9a95-4450-9d42-c4616efa2f2a"
   },
   "outputs": [
    {
     "name": "stdout",
     "output_type": "stream",
     "text": [
      "Loading Data...............\n",
      "Data Loaded with Date\n"
     ]
    }
   ],
   "source": [
    "\n",
    "## defining the function 'load_data' to red our data in\n",
    "\n",
    "def load_data(path, date = None):\n",
    "    '''Takes in the argument file path and date, where date is False by default'''\n",
    "\n",
    "    if date:\n",
    "        date = date\n",
    "        data = pd.read_csv(path, parse_dates = date, na_values = ['Null', 'nan'], infer_datetime_format = True) \n",
    "        print('Loading Data...............')\n",
    "        print('Data Loaded with Date')\n",
    "        \n",
    "    else:\n",
    "        data = pd.read_csv(path, na_values = ['Null', 'nan'])\n",
    "        print('Loading Data...............')\n",
    "        print('Data Loaded without Date')\n",
    "    return data\n",
    "\n",
    "train_path = 'Xente/training.csv'\n",
    "train_xe = load_data(train_path, date = ['TransactionStartTime'])"
   ]
  },
  {
   "cell_type": "code",
   "execution_count": 326,
   "metadata": {
    "colab": {
     "base_uri": "https://localhost:8080/",
     "height": 98
    },
    "colab_type": "code",
    "id": "yivGz14Ujo_J",
    "outputId": "fed9b53a-2b0f-47ea-d349-5eae443c059f"
   },
   "outputs": [
    {
     "data": {
      "text/html": [
       "<div>\n",
       "<style scoped>\n",
       "    .dataframe tbody tr th:only-of-type {\n",
       "        vertical-align: middle;\n",
       "    }\n",
       "\n",
       "    .dataframe tbody tr th {\n",
       "        vertical-align: top;\n",
       "    }\n",
       "\n",
       "    .dataframe thead th {\n",
       "        text-align: right;\n",
       "    }\n",
       "</style>\n",
       "<table border=\"1\" class=\"dataframe\">\n",
       "  <thead>\n",
       "    <tr style=\"text-align: right;\">\n",
       "      <th></th>\n",
       "      <th>TransactionId</th>\n",
       "      <th>BatchId</th>\n",
       "      <th>AccountId</th>\n",
       "      <th>SubscriptionId</th>\n",
       "      <th>CustomerId</th>\n",
       "      <th>CurrencyCode</th>\n",
       "      <th>CountryCode</th>\n",
       "      <th>ProviderId</th>\n",
       "      <th>ProductId</th>\n",
       "      <th>ProductCategory</th>\n",
       "      <th>ChannelId</th>\n",
       "      <th>Amount</th>\n",
       "      <th>Value</th>\n",
       "      <th>TransactionStartTime</th>\n",
       "      <th>PricingStrategy</th>\n",
       "      <th>FraudResult</th>\n",
       "    </tr>\n",
       "  </thead>\n",
       "  <tbody>\n",
       "    <tr>\n",
       "      <th>0</th>\n",
       "      <td>TransactionId_76871</td>\n",
       "      <td>BatchId_36123</td>\n",
       "      <td>AccountId_3957</td>\n",
       "      <td>SubscriptionId_887</td>\n",
       "      <td>CustomerId_4406</td>\n",
       "      <td>UGX</td>\n",
       "      <td>256</td>\n",
       "      <td>ProviderId_6</td>\n",
       "      <td>ProductId_10</td>\n",
       "      <td>airtime</td>\n",
       "      <td>ChannelId_3</td>\n",
       "      <td>1000.0</td>\n",
       "      <td>1000</td>\n",
       "      <td>2018-11-15 02:18:49</td>\n",
       "      <td>2</td>\n",
       "      <td>0</td>\n",
       "    </tr>\n",
       "    <tr>\n",
       "      <th>1</th>\n",
       "      <td>TransactionId_73770</td>\n",
       "      <td>BatchId_15642</td>\n",
       "      <td>AccountId_4841</td>\n",
       "      <td>SubscriptionId_3829</td>\n",
       "      <td>CustomerId_4406</td>\n",
       "      <td>UGX</td>\n",
       "      <td>256</td>\n",
       "      <td>ProviderId_4</td>\n",
       "      <td>ProductId_6</td>\n",
       "      <td>financial_services</td>\n",
       "      <td>ChannelId_2</td>\n",
       "      <td>-20.0</td>\n",
       "      <td>20</td>\n",
       "      <td>2018-11-15 02:19:08</td>\n",
       "      <td>2</td>\n",
       "      <td>0</td>\n",
       "    </tr>\n",
       "    <tr>\n",
       "      <th>2</th>\n",
       "      <td>TransactionId_26203</td>\n",
       "      <td>BatchId_53941</td>\n",
       "      <td>AccountId_4229</td>\n",
       "      <td>SubscriptionId_222</td>\n",
       "      <td>CustomerId_4683</td>\n",
       "      <td>UGX</td>\n",
       "      <td>256</td>\n",
       "      <td>ProviderId_6</td>\n",
       "      <td>ProductId_1</td>\n",
       "      <td>airtime</td>\n",
       "      <td>ChannelId_3</td>\n",
       "      <td>500.0</td>\n",
       "      <td>500</td>\n",
       "      <td>2018-11-15 02:44:21</td>\n",
       "      <td>2</td>\n",
       "      <td>0</td>\n",
       "    </tr>\n",
       "    <tr>\n",
       "      <th>3</th>\n",
       "      <td>TransactionId_380</td>\n",
       "      <td>BatchId_102363</td>\n",
       "      <td>AccountId_648</td>\n",
       "      <td>SubscriptionId_2185</td>\n",
       "      <td>CustomerId_988</td>\n",
       "      <td>UGX</td>\n",
       "      <td>256</td>\n",
       "      <td>ProviderId_1</td>\n",
       "      <td>ProductId_21</td>\n",
       "      <td>utility_bill</td>\n",
       "      <td>ChannelId_3</td>\n",
       "      <td>20000.0</td>\n",
       "      <td>21800</td>\n",
       "      <td>2018-11-15 03:32:55</td>\n",
       "      <td>2</td>\n",
       "      <td>0</td>\n",
       "    </tr>\n",
       "    <tr>\n",
       "      <th>4</th>\n",
       "      <td>TransactionId_28195</td>\n",
       "      <td>BatchId_38780</td>\n",
       "      <td>AccountId_4841</td>\n",
       "      <td>SubscriptionId_3829</td>\n",
       "      <td>CustomerId_988</td>\n",
       "      <td>UGX</td>\n",
       "      <td>256</td>\n",
       "      <td>ProviderId_4</td>\n",
       "      <td>ProductId_6</td>\n",
       "      <td>financial_services</td>\n",
       "      <td>ChannelId_2</td>\n",
       "      <td>-644.0</td>\n",
       "      <td>644</td>\n",
       "      <td>2018-11-15 03:34:21</td>\n",
       "      <td>2</td>\n",
       "      <td>0</td>\n",
       "    </tr>\n",
       "  </tbody>\n",
       "</table>\n",
       "</div>"
      ],
      "text/plain": [
       "         TransactionId         BatchId       AccountId       SubscriptionId  \\\n",
       "0  TransactionId_76871   BatchId_36123  AccountId_3957   SubscriptionId_887   \n",
       "1  TransactionId_73770   BatchId_15642  AccountId_4841  SubscriptionId_3829   \n",
       "2  TransactionId_26203   BatchId_53941  AccountId_4229   SubscriptionId_222   \n",
       "3    TransactionId_380  BatchId_102363   AccountId_648  SubscriptionId_2185   \n",
       "4  TransactionId_28195   BatchId_38780  AccountId_4841  SubscriptionId_3829   \n",
       "\n",
       "        CustomerId CurrencyCode  CountryCode    ProviderId     ProductId  \\\n",
       "0  CustomerId_4406          UGX          256  ProviderId_6  ProductId_10   \n",
       "1  CustomerId_4406          UGX          256  ProviderId_4   ProductId_6   \n",
       "2  CustomerId_4683          UGX          256  ProviderId_6   ProductId_1   \n",
       "3   CustomerId_988          UGX          256  ProviderId_1  ProductId_21   \n",
       "4   CustomerId_988          UGX          256  ProviderId_4   ProductId_6   \n",
       "\n",
       "      ProductCategory    ChannelId   Amount  Value TransactionStartTime  \\\n",
       "0             airtime  ChannelId_3   1000.0   1000  2018-11-15 02:18:49   \n",
       "1  financial_services  ChannelId_2    -20.0     20  2018-11-15 02:19:08   \n",
       "2             airtime  ChannelId_3    500.0    500  2018-11-15 02:44:21   \n",
       "3        utility_bill  ChannelId_3  20000.0  21800  2018-11-15 03:32:55   \n",
       "4  financial_services  ChannelId_2   -644.0    644  2018-11-15 03:34:21   \n",
       "\n",
       "   PricingStrategy  FraudResult  \n",
       "0                2            0  \n",
       "1                2            0  \n",
       "2                2            0  \n",
       "3                2            0  \n",
       "4                2            0  "
      ]
     },
     "execution_count": 326,
     "metadata": {},
     "output_type": "execute_result"
    }
   ],
   "source": [
    "train_xe.head()"
   ]
  },
  {
   "cell_type": "code",
   "execution_count": 328,
   "metadata": {},
   "outputs": [
    {
     "data": {
      "text/plain": [
       "Text(0.5,1,'Fraudulent VS Non-Fraudulent')"
      ]
     },
     "execution_count": 328,
     "metadata": {},
     "output_type": "execute_result"
    },
    {
     "data": {
      "image/png": "[encoded data removed]",
      "text/plain": [
       "<Figure size 432x288 with 1 Axes>"
      ]
     },
     "metadata": {},
     "output_type": "display_data"
    }
   ],
   "source": [
    "### Checking if the data is balanced or inbalanced\n",
    "\n",
    "#Visualising Fraudulent and non-fraudulent cases\n",
    "plt.bar(\"Fraudulent\", train[\"FraudResult\"].value_counts()[1], color=\"red\")\n",
    "plt.bar(\"Non_Fraudulent\", train[\"FraudResult\"].value_counts()[0], width=0.5, color=\"black\")\n",
    "plt.ylabel(\"Count\", fontsize=14)\n",
    "plt.title(\"Fraudulent VS Non-Fraudulent\")"
   ]
  },
  {
   "cell_type": "code",
   "execution_count": 329,
   "metadata": {},
   "outputs": [],
   "source": [
    "## Dropping the id columns and the unchanging columns\n",
    "\n",
    "ids = ['TransactionId', 'CurrencyCode', 'CountryCode']\n",
    "train_xe.drop(ids, inplace = True, axis = 1)\n",
    "\n",
    "## Performing feature enginering on the TransactionStartTime column\n",
    "train_xe['Fraud_time'] = train_xe['TransactionStartTime'].dt.time\n",
    "from datetime import time\n",
    "def time_of_the_day(frame):\n",
    "    if time(0, 0, 0) < frame < time(4, 59, 0):\n",
    "        return 'Midnight'\n",
    "    if time(5, 0, 0) < frame < time(11, 59, 0):\n",
    "        return 'Morning'\n",
    "    if time(12, 0, 0) < frame < time(18, 0, 0):\n",
    "        return 'Afternoon'\n",
    "    if time(18, 1, 0) < frame < time(21, 59, 0):\n",
    "        return 'Night'\n",
    "train_xe['time_of_the_day'] = train_xe['Fraud_time'].apply(time_of_the_day)"
   ]
  },
  {
   "cell_type": "code",
   "execution_count": 330,
   "metadata": {
    "colab": {},
    "colab_type": "code",
    "id": "ZimYdSJvjs2C"
   },
   "outputs": [],
   "source": [
    "## One hot encoding the categorical columns\n",
    "product_cat = pd.get_dummies(train_xe['ProductCategory'])\n",
    "provider_id = pd.get_dummies(train_xe['ProviderId'])\n",
    "channel_id = pd.get_dummies(train_xe['ChannelId'])\n",
    "time = pd.get_dummies(train_xe['time_of_the_day'])\n",
    "train = pd.concat([train_xe, product_cat, provider_id, time, channel_id], axis = 1)\n",
    "train.drop(['ProviderId', 'ProductId', 'ChannelId',  'ProductCategory', 'TransactionStartTime', 'Fraud_time', 'time_of_the_day', 'BatchId', 'ChannelId', 'AccountId', 'SubscriptionId', 'CustomerId'], axis = 1, inplace = True)"
   ]
  },
  {
   "cell_type": "code",
   "execution_count": 331,
   "metadata": {},
   "outputs": [],
   "source": [
    "X, y = train.drop(['FraudResult'], axis = 1), train.FraudResult"
   ]
  },
  {
   "cell_type": "code",
   "execution_count": 332,
   "metadata": {},
   "outputs": [
    {
     "name": "stdout",
     "output_type": "stream",
     "text": [
      "Built on the SciKit-learn library\n",
      "Without PCA\n"
     ]
    }
   ],
   "source": [
    "## Here, we define a function to split our data, with option to split or perform pca on the data if required\n",
    "\n",
    "def scale_pca(X, y = None, split = False, pca = False, n_components = 10):\n",
    "    from sklearn.preprocessing import StandardScaler, LabelEncoder\n",
    "    from sklearn.model_selection import train_test_split\n",
    "    from sklearn.decomposition import PCA\n",
    "    print('Built on the SciKit-learn library')\n",
    "    \n",
    "    \n",
    "    if split == True and pca == True:\n",
    "        scaler = StandardScaler()\n",
    "        pca = PCA(n_components = n_components)\n",
    "        y = LabelEncoder().fit_transform(y)\n",
    "        y = y.reshape(y.shape[0], 1)\n",
    "        X_train, X_test, y_train, y_test = train_test_split(X, y, test_size = 0.3, random_state = 0)\n",
    "        X_train = scaler.fit_transform(X_train)\n",
    "        X_train = pca.fit_transform(X_train)\n",
    "        X_test = scaler.fit_transform(X_test)\n",
    "        X_test = pca.fit_transform(X_test)\n",
    "        print('With PCA')\n",
    "        return X_train, X_test, y_train, y_test\n",
    "    \n",
    "    \n",
    "    elif split == True and pca == False:\n",
    "        scaler = StandardScaler()\n",
    "        y = LabelEncoder().fit_transform(y)\n",
    "        y = y.reshape(y.shape[0], 1)\n",
    "        X_train, X_test, y_train, y_test = train_test_split(X, y, test_size = 0.2, random_state = 0)\n",
    "        X_train = scaler.fit_transform(X_train)\n",
    "\n",
    "        X_test = scaler.fit_transform(X_test)\n",
    "        print('Without PCA')\n",
    "    \n",
    "        return X_train, X_test, y_train, y_test\n",
    "    \n",
    "    \n",
    "    else:\n",
    "        scaler = StandardScaler()\n",
    "        X = scaler.fit_transform(X)\n",
    "        return X\n",
    "    \n",
    "X_train, X_test, y_train, y_test= scale_pca(X, y, split = True)"
   ]
  },
  {
   "cell_type": "code",
   "execution_count": 333,
   "metadata": {
    "colab": {
     "base_uri": "https://localhost:8080/",
     "height": 70
    },
    "colab_type": "code",
    "id": "yHi_D8bWnpEY",
    "outputId": "e95a9e46-55e1-45a7-faab-da8dff6ac80c"
   },
   "outputs": [
    {
     "name": "stdout",
     "output_type": "stream",
     "text": [
      "(152742, 26) (152742, 1)\n"
     ]
    }
   ],
   "source": [
    "### Performing up sampling on the imbalanced dataset\n",
    "# Here we generate synthetic cases of the minority data point\n",
    "\n",
    "from imblearn.over_sampling import SMOTE\n",
    "\n",
    "smote = SMOTE(random_state=3005, sampling_strategy = 'minority')\n",
    "X_train_bal, y_train_bal = smote.fit_sample(X_train, y_train)\n",
    "y_train_bal = y_train_bal.reshape(-1, 1)\n",
    "print(X_train_bal.shape, y_train_bal.shape)\n",
    "X_train_bal = pd.DataFrame(data = X_train_bal, columns = X.columns)\n",
    "X_test = pd.DataFrame(data = X_test, columns = X.columns)\n",
    "#X_test = pd.DataFrame(data = X_test, columns = ['principal component 1', 'principal component 2', 'principal component 3', 'principal component 4', 'principal component 5', 'principal component 6', 'principal component 7', 'principal component 8', 'principal component 9', 'principal component 10'])\n",
    "#X_test = X_test.drop(['principal component 9'], axis = 1)"
   ]
  },
  {
   "cell_type": "code",
   "execution_count": 334,
   "metadata": {
    "colab": {
     "base_uri": "https://localhost:8080/",
     "height": 630
    },
    "colab_type": "code",
    "id": "5-stPO5an4jl",
    "outputId": "468a01c3-07a3-4f9a-ffaf-230a331ebee3"
   },
   "outputs": [
    {
     "data": {
      "image/png": "[encoded data removed]",
      "text/plain": [
       "<Figure size 1080x720 with 1 Axes>"
      ]
     },
     "metadata": {},
     "output_type": "display_data"
    }
   ],
   "source": [
    "### Performing feature importance with the inbuilt random forest feature importance\n",
    "\n",
    "def feature_importance(X_train, y_train, threshold = 0.05):\n",
    "    '''Takes in a pandas dataframe only'''\n",
    "    from sklearn.ensemble import ExtraTreesClassifier\n",
    "\n",
    "    # Initialize a random forest estimator\n",
    "    forest = ExtraTreesClassifier(n_estimators=50,random_state=0)\n",
    "\n",
    "    # Fit the input matrix and target values to the classifier\n",
    "    forest.fit(X_train, y_train)\n",
    "\n",
    "    # Retrieve the computed feature importance\n",
    "    importances = forest.feature_importances_\n",
    "\n",
    "    # Plot the feature importance\n",
    "    plot_data = pd.DataFrame({'features' : pd.Series(X_train.columns),'importance' : pd.Series(importances)})\n",
    "    plt.figure(figsize=(15,10))\n",
    "    plot_data = plot_data.sort_values('importance',ascending=False)\n",
    "    plot_data = plot_data[plot_data['importance'] > threshold]\n",
    "    ax = sns.barplot(x=plot_data['importance'],y=plot_data['features'])\n",
    "    plt.show()\n",
    "    \n",
    "feature_importance(X_train_bal, y_train_bal, threshold = 0.02)"
   ]
  },
  {
   "cell_type": "code",
   "execution_count": 335,
   "metadata": {},
   "outputs": [],
   "source": [
    "important_features = ['ProviderId_5', 'PricingStrategy', 'ProviderId_3', 'ChannelId_3', 'ChannelId_2', 'ProviderId_4', 'ProviderId_6', 'financial_services', 'airtime', 'Value', 'Amount']\n",
    "df = X_train_bal[important_features]\n",
    "X_test = X_test[important_features]"
   ]
  },
  {
   "cell_type": "code",
   "execution_count": 336,
   "metadata": {},
   "outputs": [],
   "source": [
    "y_train_bal = pd.DataFrame(y_train_bal, columns = ['FraudResult'])\n",
    "df_outlier = pd.concat([df, y_train_bal], axis = 1)"
   ]
  },
  {
   "cell_type": "code",
   "execution_count": 337,
   "metadata": {},
   "outputs": [
    {
     "data": {
      "text/plain": [
       "<matplotlib.axes._subplots.AxesSubplot at 0x21e2b3e94a8>"
      ]
     },
     "execution_count": 337,
     "metadata": {},
     "output_type": "execute_result"
    },
    {
     "data": {
      "image/png": "[encoded data removed]",
      "text/plain": [
       "<Figure size 432x288 with 1 Axes>"
      ]
     },
     "metadata": {},
     "output_type": "display_data"
    }
   ],
   "source": [
    "sns.boxplot(x=df_outlier['FraudResult'], y = df_outlier['Amount'])"
   ]
  },
  {
   "cell_type": "code",
   "execution_count": 338,
   "metadata": {},
   "outputs": [
    {
     "data": {
      "text/plain": [
       "<matplotlib.axes._subplots.AxesSubplot at 0x21e3b25a518>"
      ]
     },
     "execution_count": 338,
     "metadata": {},
     "output_type": "execute_result"
    },
    {
     "data": {
      "image/png": "[encoded data removed]",
      "text/plain": [
       "<Figure size 432x288 with 1 Axes>"
      ]
     },
     "metadata": {},
     "output_type": "display_data"
    }
   ],
   "source": [
    "sns.boxplot(x=df_outlier['FraudResult'], y = df_outlier['Value'])"
   ]
  },
  {
   "cell_type": "code",
   "execution_count": 339,
   "metadata": {},
   "outputs": [],
   "source": [
    "## Using the Z-scores to filter Outliers since out dataset contains outliers as seen in the boxplot above\n",
    "from scipy import stats\n",
    "\n",
    "z = np.abs(stats.zscore(df_outlier))"
   ]
  },
  {
   "cell_type": "code",
   "execution_count": 340,
   "metadata": {},
   "outputs": [],
   "source": [
    "df_z = df_outlier[(z<3).all(axis = 1)]\n",
    "X_z = df_z.drop(['FraudResult'], axis = 1)\n",
    "y_z = df_z.FraudResult"
   ]
  },
  {
   "cell_type": "code",
   "execution_count": 341,
   "metadata": {},
   "outputs": [],
   "source": [
    "#Metric function\n",
    "\n",
    "## This function takes in some ensemble algorithms and a Stoichatic gradient descent algorithm\n",
    "## Precision and recall curve is compared to the ROC curve\n",
    "\n",
    "## For imbalanced dataset, we better look at the precision recall curve and the confusion matrix in other to compare the performance of our algorithm\n",
    "\n",
    "\n",
    "from sklearn.feature_selection import RFE\n",
    "from sklearn.linear_model import SGDClassifier, LogisticRegression\n",
    "\n",
    "\n",
    "def result_metric_visual(X_train, X_test, y_train, y_test):\n",
    "    model_names = ['Random_Forest', 'XGBOOST', 'LightGBM', 'SGD']\n",
    "    fig, (ax1, ax2) = plt.subplots(1,2,figsize = (12,6))\n",
    "    rf = RandomForestClassifier()\n",
    "    xgb = XGBClassifier(base_score = 0.5, max_depth = 7, n_estimators = 200, random_state = 1, subsample = 0.9)\n",
    "    lgb = LGBMClassifier()\n",
    "    sgd = SGDClassifier(loss = 'log', alpha = 100, early_stopping = True, n_jobs = -1, l1_ratio = 0.1, fit_intercept = True) ###LGBMClassifier()\n",
    "    models = [rf, xgb, lgb, sgd]\n",
    "    for model, k  in zip(models, model_names):\n",
    "        print('#' * 12, k, '#' * 12)\n",
    "        print('.' *10, 'Training', '.'*10)\n",
    "        rfe = RFE(model, n_features_to_select = 7, step = 5)\n",
    "        rfe = rfe.fit(X_train, y_train)\n",
    "        y_pred = rfe.predict(X_test)\n",
    "        y_pred_prob = rfe.predict_proba(X_test)[:,1]\n",
    "        \n",
    "        print('...............', 'REPORTS', '...............')\n",
    "        print('Accuracy on training:-', rfe.score(X_train, y_train))\n",
    "        print('Accuracy on testing:-', rfe.score(X_test, y_test))\n",
    "        print('..............Classification Report..........')\n",
    "        print(classification_report(y_test, y_pred))\n",
    "        print(\"Confusion Matrix: \\n {}\\n\".format(confusion_matrix(y_test, rfe.predict(X_test))))\n",
    "        \n",
    "        \n",
    "        \n",
    "        precision, recall, thresholds_pr = precision_recall_curve(y_test, y_pred_prob)\n",
    "        avg_pre = average_precision_score(y_test, y_pred_prob)\n",
    "        \n",
    "        \n",
    "        \n",
    "        ax1.plot(precision, recall, label = k + \" average precision = {:0.2f}\".format(avg_pre), lw = 3, alpha = 0.7)\n",
    "        ax1.set_xlabel('Precision', fontsize = 14)\n",
    "        ax1.set_ylabel('Recall', fontsize = 14)\n",
    "        ax1.set_title('Precision-Recall Curve', fontsize = 18)\n",
    "        ax1.legend(loc = 'best')\n",
    "        #default threshold\n",
    "        close_default = np.argmin(np.abs(thresholds_pr - 0.5))  \n",
    "    \n",
    "        fpr, tpr, threshold = roc_curve(y_test, y_pred_prob)\n",
    "        roc_auc = auc(fpr, tpr)\n",
    "        ax2.set_title('Receiver Operating Characteristic')\n",
    "        ax2.plot(fpr, tpr, 'b', label = k+ \" area = {:0.2f}\".format(roc_auc))\n",
    "        ax2.legend(loc = 'best')\n",
    "        ax2.plot([0, 1], [0, 1],'r--')\n",
    "        ax2.set_xlim([0, 1])\n",
    "        ax2.set_ylim([0, 1])\n",
    "        ax2.set_ylabel('True Positive Rate')\n",
    "        ax2.set_xlabel('False Positive Rate')\n",
    "        close_default = np.argmin(np.abs(threshold - 0.5))\n",
    "        plt.tight_layout()"
   ]
  },
  {
   "cell_type": "code",
   "execution_count": 321,
   "metadata": {},
   "outputs": [
    {
     "name": "stdout",
     "output_type": "stream",
     "text": [
      "############ Random_Forest ############\n",
      ".......... Training ..........\n",
      "............... REPORTS ...............\n",
      "Accuracy on training:- 0.9972910604996489\n",
      "Accuracy on testing:- 0.6697851878952595\n",
      "..............Classification Report..........\n",
      "              precision    recall  f1-score   support\n",
      "\n",
      "           0       1.00      0.67      0.80     19098\n",
      "           1       0.01      0.97      0.01        35\n",
      "\n",
      "    accuracy                           0.67     19133\n",
      "   macro avg       0.50      0.82      0.41     19133\n",
      "weighted avg       1.00      0.67      0.80     19133\n",
      "\n",
      "Confusion Matrix: \n",
      " [[12781  6317]\n",
      " [    1    34]]\n",
      "\n",
      "############ XGBOOST ############\n",
      ".......... Training ..........\n",
      "............... REPORTS ...............\n",
      "Accuracy on training:- 0.9989833115949299\n",
      "Accuracy on testing:- 0.6250979982229655\n",
      "..............Classification Report..........\n",
      "              precision    recall  f1-score   support\n",
      "\n",
      "           0       1.00      0.62      0.77     19098\n",
      "           1       0.00      0.94      0.01        35\n",
      "\n",
      "    accuracy                           0.63     19133\n",
      "   macro avg       0.50      0.78      0.39     19133\n",
      "weighted avg       1.00      0.63      0.77     19133\n",
      "\n",
      "Confusion Matrix: \n",
      " [[11927  7171]\n",
      " [    2    33]]\n",
      "\n",
      "############ LightGBM ############\n",
      ".......... Training ..........\n",
      "............... REPORTS ...............\n",
      "Accuracy on training:- 0.9987960268887328\n",
      "Accuracy on testing:- 0.6078503109810276\n",
      "..............Classification Report..........\n",
      "              precision    recall  f1-score   support\n",
      "\n",
      "           0       1.00      0.61      0.76     19098\n",
      "           1       0.00      0.94      0.01        35\n",
      "\n",
      "    accuracy                           0.61     19133\n",
      "   macro avg       0.50      0.78      0.38     19133\n",
      "weighted avg       1.00      0.61      0.75     19133\n",
      "\n",
      "Confusion Matrix: \n",
      " [[11597  7501]\n",
      " [    2    33]]\n",
      "\n",
      "############ SGD ############\n",
      ".......... Training ..........\n",
      "............... REPORTS ...............\n",
      "Accuracy on training:- 0.48917427510785594\n",
      "Accuracy on testing:- 0.0018293001620237287\n",
      "..............Classification Report..........\n",
      "              precision    recall  f1-score   support\n",
      "\n",
      "           0       0.00      0.00      0.00     19098\n",
      "           1       0.00      1.00      0.00        35\n",
      "\n",
      "    accuracy                           0.00     19133\n",
      "   macro avg       0.00      0.50      0.00     19133\n",
      "weighted avg       0.00      0.00      0.00     19133\n",
      "\n",
      "Confusion Matrix: \n",
      " [[    0 19098]\n",
      " [    0    35]]\n",
      "\n"
     ]
    },
    {
     "data": {
      "image/png": "[encoded data removed]",
      "text/plain": [
       "<Figure size 864x432 with 2 Axes>"
      ]
     },
     "metadata": {},
     "output_type": "display_data"
    }
   ],
   "source": [
    "result_metric_visual(X_z, X_test, y_z, y_test)"
   ]
  },
  {
   "cell_type": "markdown",
   "metadata": {},
   "source": [
    "### Since the SGD algorithm performs better under the P-R curve and the ROC-curve, i further tweek this algorithm to get a better result"
   ]
  },
  {
   "cell_type": "code",
   "execution_count": 351,
   "metadata": {},
   "outputs": [],
   "source": [
    "from sklearn.feature_selection import RFE\n",
    "from sklearn.linear_model import SGDClassifier, LogisticRegression\n",
    "from sklearn.svm import SVC\n",
    "from sklearn.neighbors import KNeighborsClassifier\n",
    "from sklearn.tree import DecisionTreeClassifier\n",
    "from sklearn.ensemble import RandomForestClassifier\n",
    "\n",
    "model = SGDClassifier(loss = 'log', alpha =100, early_stopping = True, n_jobs = -1, l1_ratio = 1, fit_intercept = True)\n",
    "rfe = RFE(model, n_features_to_select = 7, step = 500)\n",
    "rfe = rfe.fit(X_z, y_z)\n",
    "result = rfe.predict(X_test)"
   ]
  },
  {
   "cell_type": "code",
   "execution_count": 352,
   "metadata": {},
   "outputs": [
    {
     "name": "stdout",
     "output_type": "stream",
     "text": [
      "              precision    recall  f1-score   support\n",
      "\n",
      "           0       1.00      1.00      1.00     19098\n",
      "           1       0.76      0.89      0.82        35\n",
      "\n",
      "    accuracy                           1.00     19133\n",
      "   macro avg       0.88      0.94      0.91     19133\n",
      "weighted avg       1.00      1.00      1.00     19133\n",
      "\n",
      "Confusion Matrix: \n",
      " [[19088    10]\n",
      " [    4    31]]\n",
      "\n",
      "test accuracy:0.9992682799351905\n"
     ]
    }
   ],
   "source": [
    "print(classification_report(y_test, result))\n",
    "print(\"Confusion Matrix: \\n {}\\n\".format(confusion_matrix(y_test, result)))\n",
    "print('test accuracy:{}'.format(rfe.score(X_test, y_test)))"
   ]
  },
  {
   "cell_type": "markdown",
   "metadata": {},
   "source": [
    "#### The above result is achieved even without using gridsearch to find the best parameters for the algorithm"
   ]
  },
  {
   "cell_type": "code",
   "execution_count": 62,
   "metadata": {},
   "outputs": [
    {
     "name": "stdout",
     "output_type": "stream",
     "text": [
      "Loading Data...............\n",
      "Data Loaded with Date\n"
     ]
    }
   ],
   "source": [
    "path_test = 'Xente/test.csv'\n",
    "test = load_data(path_test, date = ['TransactionStartTime'])"
   ]
  },
  {
   "cell_type": "code",
   "execution_count": 63,
   "metadata": {},
   "outputs": [],
   "source": [
    "test.drop(ids, inplace = True, axis = 1)\n",
    "test['Fraud_time'] = test['TransactionStartTime'].dt.time\n",
    "#test['time_of_the_day'] = test['Fraud_time'].apply(time_of_the_day)"
   ]
  },
  {
   "cell_type": "code",
   "execution_count": 64,
   "metadata": {},
   "outputs": [],
   "source": [
    "product_cat_test = pd.get_dummies(test['ProductCategory'])\n",
    "provider_id_test = pd.get_dummies(test['ProviderId'])\n",
    "channel_id_test = pd.get_dummies(test['ChannelId'])\n",
    "test_test = pd.concat([test, product_cat_test, provider_id_test, channel_id_test], axis = 1)\n",
    "test_test.drop(['ProviderId', 'ProductId', 'ChannelId',  'ProductCategory', 'TransactionStartTime', 'Fraud_time', 'BatchId', 'ChannelId', 'AccountId', 'SubscriptionId', 'CustomerId'], axis = 1, inplace = True)"
   ]
  },
  {
   "cell_type": "code",
   "execution_count": 65,
   "metadata": {},
   "outputs": [
    {
     "name": "stdout",
     "output_type": "stream",
     "text": [
      "Built on the SciKit-learn library\n"
     ]
    }
   ],
   "source": [
    "test_data_ = scale_pca(test_test)\n",
    "test_data_ = pd.DataFrame(test_data_, columns = list(test_test.columns) )"
   ]
  },
  {
   "cell_type": "code",
   "execution_count": 66,
   "metadata": {},
   "outputs": [
    {
     "data": {
      "text/plain": [
       "Index(['ProviderId_5', 'PricingStrategy', 'ProviderId_3', 'ChannelId_3',\n",
       "       'ChannelId_2', 'ProviderId_4', 'ProviderId_6', 'financial_services',\n",
       "       'airtime', 'Value', 'Amount'],\n",
       "      dtype='object')"
      ]
     },
     "execution_count": 66,
     "metadata": {},
     "output_type": "execute_result"
    }
   ],
   "source": [
    "data = test_data_[use]\n",
    "data.columns"
   ]
  },
  {
   "cell_type": "code",
   "execution_count": 67,
   "metadata": {},
   "outputs": [
    {
     "data": {
      "text/plain": [
       "(45019,)"
      ]
     },
     "execution_count": 67,
     "metadata": {},
     "output_type": "execute_result"
    }
   ],
   "source": [
    "y_predict = rfe.predict(data)\n",
    "#y_predict = y_predict.reshape(-1, 1)\n",
    "y_predict.shape"
   ]
  },
  {
   "cell_type": "code",
   "execution_count": 68,
   "metadata": {},
   "outputs": [],
   "source": [
    "sub = pd.read_csv('Xente/sample_submission.csv')\n",
    "rest = pd.DataFrame({'TransactionId': sub['TransactionId'], 'FraudResult': y_predict})\n",
    "rest.to_csv('Xente/xente_sub15.csv', index = False )"
   ]
  },
  {
   "cell_type": "code",
   "execution_count": null,
   "metadata": {},
   "outputs": [],
   "source": [
    "### the method achieved a 0.68 score on the leaderboard"
   ]
  },
  {
   "cell_type": "code",
   "execution_count": null,
   "metadata": {},
   "outputs": [],
   "source": []
  }
 ],
 "metadata": {
  "accelerator": "GPU",
  "colab": {
   "name": "Xente_colab.ipynb",
   "provenance": [],
   "version": "0.3.2"
  },
  "kernelspec": {
   "display_name": "Python 3",
   "language": "python",
   "name": "python3"
  },
  "language_info": {
   "codemirror_mode": {
    "name": "ipython",
    "version": 3
   },
   "file_extension": ".py",
   "mimetype": "text/x-python",
   "name": "python",
   "nbconvert_exporter": "python",
   "pygments_lexer": "ipython3",
   "version": "3.6.5"
  }
 },
 "nbformat": 4,
 "nbformat_minor": 2
}
